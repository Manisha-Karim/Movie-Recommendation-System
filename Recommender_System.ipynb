{
  "nbformat": 4,
  "nbformat_minor": 0,
  "metadata": {
    "colab": {
      "provenance": [],
      "gpuType": "T4",
      "mount_file_id": "1KpE3iMg90jLaCYACb0v6qXUrEv8Fisam",
      "authorship_tag": "ABX9TyMW4kGwhDK2ivXe0sfLndxq",
      "include_colab_link": true
    },
    "kernelspec": {
      "name": "python3",
      "display_name": "Python 3"
    },
    "language_info": {
      "name": "python"
    }
  },
  "cells": [
    {
      "cell_type": "markdown",
      "metadata": {
        "id": "view-in-github",
        "colab_type": "text"
      },
      "source": [
        "<a href=\"https://colab.research.google.com/github/Manisha-Karim/Movie-Recommendation-System/blob/main/Recommender_System.ipynb\" target=\"_parent\"><img src=\"https://colab.research.google.com/assets/colab-badge.svg\" alt=\"Open In Colab\"/></a>"
      ]
    },
    {
      "cell_type": "code",
      "source": [
        "!pip install scikit-surprise"
      ],
      "metadata": {
        "colab": {
          "base_uri": "https://localhost:8080/"
        },
        "id": "fY9NOQ1NPH0p",
        "outputId": "1c2cc4fd-7ae5-4739-816d-29f366403f39"
      },
      "execution_count": 1,
      "outputs": [
        {
          "output_type": "stream",
          "name": "stdout",
          "text": [
            "Looking in indexes: https://pypi.org/simple, https://us-python.pkg.dev/colab-wheels/public/simple/\n",
            "Collecting scikit-surprise\n",
            "  Downloading scikit-surprise-1.1.3.tar.gz (771 kB)\n",
            "\u001b[2K     \u001b[90m━━━━━━━━━━━━━━━━━━━━━━━━━━━━━━━━━━━━━━\u001b[0m \u001b[32m772.0/772.0 kB\u001b[0m \u001b[31m15.3 MB/s\u001b[0m eta \u001b[36m0:00:00\u001b[0m\n",
            "\u001b[?25h  Preparing metadata (setup.py) ... \u001b[?25l\u001b[?25hdone\n",
            "Requirement already satisfied: joblib>=1.0.0 in /usr/local/lib/python3.10/dist-packages (from scikit-surprise) (1.2.0)\n",
            "Requirement already satisfied: numpy>=1.17.3 in /usr/local/lib/python3.10/dist-packages (from scikit-surprise) (1.22.4)\n",
            "Requirement already satisfied: scipy>=1.3.2 in /usr/local/lib/python3.10/dist-packages (from scikit-surprise) (1.10.1)\n",
            "Building wheels for collected packages: scikit-surprise\n",
            "  Building wheel for scikit-surprise (setup.py) ... \u001b[?25l\u001b[?25hdone\n",
            "  Created wheel for scikit-surprise: filename=scikit_surprise-1.1.3-cp310-cp310-linux_x86_64.whl size=3095456 sha256=5b06c17d7da808e5f4fec24409a2e14511d0db33219fbac2caeb1e5572082381\n",
            "  Stored in directory: /root/.cache/pip/wheels/a5/ca/a8/4e28def53797fdc4363ca4af740db15a9c2f1595ebc51fb445\n",
            "Successfully built scikit-surprise\n",
            "Installing collected packages: scikit-surprise\n",
            "Successfully installed scikit-surprise-1.1.3\n"
          ]
        }
      ]
    },
    {
      "cell_type": "code",
      "execution_count": 2,
      "metadata": {
        "id": "hqxSvOI7LbFN"
      },
      "outputs": [],
      "source": [
        "import pandas as pd\n",
        "import numpy as np\n",
        "import matplotlib.pyplot as plt\n",
        "import seaborn as sns\n",
        "\n",
        "from ast import literal_eval\n",
        "\n",
        "from sklearn.feature_extraction.text import TfidfVectorizer, CountVectorizer\n",
        "from sklearn.metrics.pairwise import linear_kernel, cosine_similarity\n",
        "\n",
        "from nltk.stem.snowball import SnowballStemmer\n",
        "from nltk.stem.wordnet import WordNetLemmatizer\n",
        "from nltk.corpus import wordnet\n",
        "from nltk.corpus import stopwords\n",
        "\n",
        "from surprise import Reader, Dataset, SVD\n",
        "from surprise.model_selection import KFold\n"
      ]
    },
    {
      "cell_type": "code",
      "source": [
        "links_small = pd.read_csv('/content/drive/MyDrive/Datasets/movie dataset/links_small.csv')\n",
        "links_small = links_small[links_small['tmdbId'].notnull()]['tmdbId'].astype('int')"
      ],
      "metadata": {
        "id": "RdeeUoIujtyT"
      },
      "execution_count": 3,
      "outputs": []
    },
    {
      "cell_type": "code",
      "source": [
        "links_small.head()"
      ],
      "metadata": {
        "colab": {
          "base_uri": "https://localhost:8080/"
        },
        "id": "zptNCiBxj5iF",
        "outputId": "7b9e4e81-eb32-4ba2-ccea-f275206fae5d"
      },
      "execution_count": 4,
      "outputs": [
        {
          "output_type": "execute_result",
          "data": {
            "text/plain": [
              "0      862\n",
              "1     8844\n",
              "2    15602\n",
              "3    31357\n",
              "4    11862\n",
              "Name: tmdbId, dtype: int64"
            ]
          },
          "metadata": {},
          "execution_count": 4
        }
      ]
    },
    {
      "cell_type": "code",
      "source": [
        "md = pd.read_csv(\"/content/drive/MyDrive/Datasets/movie dataset/movies_metadata.csv\")"
      ],
      "metadata": {
        "colab": {
          "base_uri": "https://localhost:8080/"
        },
        "id": "sIUmnY9oO0Zo",
        "outputId": "7feb3db5-7189-4e13-a7ee-e8fc59ad7f3d"
      },
      "execution_count": 5,
      "outputs": [
        {
          "output_type": "stream",
          "name": "stderr",
          "text": [
            "<ipython-input-5-6adac4dbaf41>:1: DtypeWarning: Columns (10) have mixed types. Specify dtype option on import or set low_memory=False.\n",
            "  md = pd.read_csv(\"/content/drive/MyDrive/Datasets/movie dataset/movies_metadata.csv\")\n"
          ]
        }
      ]
    },
    {
      "cell_type": "code",
      "source": [
        "md.head()"
      ],
      "metadata": {
        "colab": {
          "base_uri": "https://localhost:8080/",
          "height": 750
        },
        "id": "Jd8GFC_lO0U1",
        "outputId": "a61c6909-ce5c-429a-95d1-89c29417a668"
      },
      "execution_count": 6,
      "outputs": [
        {
          "output_type": "execute_result",
          "data": {
            "text/plain": [
              "   adult                              belongs_to_collection    budget  \\\n",
              "0  False  {'id': 10194, 'name': 'Toy Story Collection', ...  30000000   \n",
              "1  False                                                NaN  65000000   \n",
              "2  False  {'id': 119050, 'name': 'Grumpy Old Men Collect...         0   \n",
              "3  False                                                NaN  16000000   \n",
              "4  False  {'id': 96871, 'name': 'Father of the Bride Col...         0   \n",
              "\n",
              "                                              genres  \\\n",
              "0  [{'id': 16, 'name': 'Animation'}, {'id': 35, '...   \n",
              "1  [{'id': 12, 'name': 'Adventure'}, {'id': 14, '...   \n",
              "2  [{'id': 10749, 'name': 'Romance'}, {'id': 35, ...   \n",
              "3  [{'id': 35, 'name': 'Comedy'}, {'id': 18, 'nam...   \n",
              "4                     [{'id': 35, 'name': 'Comedy'}]   \n",
              "\n",
              "                               homepage     id    imdb_id original_language  \\\n",
              "0  http://toystory.disney.com/toy-story    862  tt0114709                en   \n",
              "1                                   NaN   8844  tt0113497                en   \n",
              "2                                   NaN  15602  tt0113228                en   \n",
              "3                                   NaN  31357  tt0114885                en   \n",
              "4                                   NaN  11862  tt0113041                en   \n",
              "\n",
              "                original_title  \\\n",
              "0                    Toy Story   \n",
              "1                      Jumanji   \n",
              "2             Grumpier Old Men   \n",
              "3            Waiting to Exhale   \n",
              "4  Father of the Bride Part II   \n",
              "\n",
              "                                            overview  ... release_date  \\\n",
              "0  Led by Woody, Andy's toys live happily in his ...  ...   1995-10-30   \n",
              "1  When siblings Judy and Peter discover an encha...  ...   1995-12-15   \n",
              "2  A family wedding reignites the ancient feud be...  ...   1995-12-22   \n",
              "3  Cheated on, mistreated and stepped on, the wom...  ...   1995-12-22   \n",
              "4  Just when George Banks has recovered from his ...  ...   1995-02-10   \n",
              "\n",
              "       revenue runtime                                   spoken_languages  \\\n",
              "0  373554033.0    81.0           [{'iso_639_1': 'en', 'name': 'English'}]   \n",
              "1  262797249.0   104.0  [{'iso_639_1': 'en', 'name': 'English'}, {'iso...   \n",
              "2          0.0   101.0           [{'iso_639_1': 'en', 'name': 'English'}]   \n",
              "3   81452156.0   127.0           [{'iso_639_1': 'en', 'name': 'English'}]   \n",
              "4   76578911.0   106.0           [{'iso_639_1': 'en', 'name': 'English'}]   \n",
              "\n",
              "     status                                            tagline  \\\n",
              "0  Released                                                NaN   \n",
              "1  Released          Roll the dice and unleash the excitement!   \n",
              "2  Released  Still Yelling. Still Fighting. Still Ready for...   \n",
              "3  Released  Friends are the people who let you be yourself...   \n",
              "4  Released  Just When His World Is Back To Normal... He's ...   \n",
              "\n",
              "                         title  video vote_average vote_count  \n",
              "0                    Toy Story  False          7.7     5415.0  \n",
              "1                      Jumanji  False          6.9     2413.0  \n",
              "2             Grumpier Old Men  False          6.5       92.0  \n",
              "3            Waiting to Exhale  False          6.1       34.0  \n",
              "4  Father of the Bride Part II  False          5.7      173.0  \n",
              "\n",
              "[5 rows x 24 columns]"
            ],
            "text/html": [
              "\n",
              "  <div id=\"df-95cb9ed3-0ccd-422a-921c-ff14576cf84f\">\n",
              "    <div class=\"colab-df-container\">\n",
              "      <div>\n",
              "<style scoped>\n",
              "    .dataframe tbody tr th:only-of-type {\n",
              "        vertical-align: middle;\n",
              "    }\n",
              "\n",
              "    .dataframe tbody tr th {\n",
              "        vertical-align: top;\n",
              "    }\n",
              "\n",
              "    .dataframe thead th {\n",
              "        text-align: right;\n",
              "    }\n",
              "</style>\n",
              "<table border=\"1\" class=\"dataframe\">\n",
              "  <thead>\n",
              "    <tr style=\"text-align: right;\">\n",
              "      <th></th>\n",
              "      <th>adult</th>\n",
              "      <th>belongs_to_collection</th>\n",
              "      <th>budget</th>\n",
              "      <th>genres</th>\n",
              "      <th>homepage</th>\n",
              "      <th>id</th>\n",
              "      <th>imdb_id</th>\n",
              "      <th>original_language</th>\n",
              "      <th>original_title</th>\n",
              "      <th>overview</th>\n",
              "      <th>...</th>\n",
              "      <th>release_date</th>\n",
              "      <th>revenue</th>\n",
              "      <th>runtime</th>\n",
              "      <th>spoken_languages</th>\n",
              "      <th>status</th>\n",
              "      <th>tagline</th>\n",
              "      <th>title</th>\n",
              "      <th>video</th>\n",
              "      <th>vote_average</th>\n",
              "      <th>vote_count</th>\n",
              "    </tr>\n",
              "  </thead>\n",
              "  <tbody>\n",
              "    <tr>\n",
              "      <th>0</th>\n",
              "      <td>False</td>\n",
              "      <td>{'id': 10194, 'name': 'Toy Story Collection', ...</td>\n",
              "      <td>30000000</td>\n",
              "      <td>[{'id': 16, 'name': 'Animation'}, {'id': 35, '...</td>\n",
              "      <td>http://toystory.disney.com/toy-story</td>\n",
              "      <td>862</td>\n",
              "      <td>tt0114709</td>\n",
              "      <td>en</td>\n",
              "      <td>Toy Story</td>\n",
              "      <td>Led by Woody, Andy's toys live happily in his ...</td>\n",
              "      <td>...</td>\n",
              "      <td>1995-10-30</td>\n",
              "      <td>373554033.0</td>\n",
              "      <td>81.0</td>\n",
              "      <td>[{'iso_639_1': 'en', 'name': 'English'}]</td>\n",
              "      <td>Released</td>\n",
              "      <td>NaN</td>\n",
              "      <td>Toy Story</td>\n",
              "      <td>False</td>\n",
              "      <td>7.7</td>\n",
              "      <td>5415.0</td>\n",
              "    </tr>\n",
              "    <tr>\n",
              "      <th>1</th>\n",
              "      <td>False</td>\n",
              "      <td>NaN</td>\n",
              "      <td>65000000</td>\n",
              "      <td>[{'id': 12, 'name': 'Adventure'}, {'id': 14, '...</td>\n",
              "      <td>NaN</td>\n",
              "      <td>8844</td>\n",
              "      <td>tt0113497</td>\n",
              "      <td>en</td>\n",
              "      <td>Jumanji</td>\n",
              "      <td>When siblings Judy and Peter discover an encha...</td>\n",
              "      <td>...</td>\n",
              "      <td>1995-12-15</td>\n",
              "      <td>262797249.0</td>\n",
              "      <td>104.0</td>\n",
              "      <td>[{'iso_639_1': 'en', 'name': 'English'}, {'iso...</td>\n",
              "      <td>Released</td>\n",
              "      <td>Roll the dice and unleash the excitement!</td>\n",
              "      <td>Jumanji</td>\n",
              "      <td>False</td>\n",
              "      <td>6.9</td>\n",
              "      <td>2413.0</td>\n",
              "    </tr>\n",
              "    <tr>\n",
              "      <th>2</th>\n",
              "      <td>False</td>\n",
              "      <td>{'id': 119050, 'name': 'Grumpy Old Men Collect...</td>\n",
              "      <td>0</td>\n",
              "      <td>[{'id': 10749, 'name': 'Romance'}, {'id': 35, ...</td>\n",
              "      <td>NaN</td>\n",
              "      <td>15602</td>\n",
              "      <td>tt0113228</td>\n",
              "      <td>en</td>\n",
              "      <td>Grumpier Old Men</td>\n",
              "      <td>A family wedding reignites the ancient feud be...</td>\n",
              "      <td>...</td>\n",
              "      <td>1995-12-22</td>\n",
              "      <td>0.0</td>\n",
              "      <td>101.0</td>\n",
              "      <td>[{'iso_639_1': 'en', 'name': 'English'}]</td>\n",
              "      <td>Released</td>\n",
              "      <td>Still Yelling. Still Fighting. Still Ready for...</td>\n",
              "      <td>Grumpier Old Men</td>\n",
              "      <td>False</td>\n",
              "      <td>6.5</td>\n",
              "      <td>92.0</td>\n",
              "    </tr>\n",
              "    <tr>\n",
              "      <th>3</th>\n",
              "      <td>False</td>\n",
              "      <td>NaN</td>\n",
              "      <td>16000000</td>\n",
              "      <td>[{'id': 35, 'name': 'Comedy'}, {'id': 18, 'nam...</td>\n",
              "      <td>NaN</td>\n",
              "      <td>31357</td>\n",
              "      <td>tt0114885</td>\n",
              "      <td>en</td>\n",
              "      <td>Waiting to Exhale</td>\n",
              "      <td>Cheated on, mistreated and stepped on, the wom...</td>\n",
              "      <td>...</td>\n",
              "      <td>1995-12-22</td>\n",
              "      <td>81452156.0</td>\n",
              "      <td>127.0</td>\n",
              "      <td>[{'iso_639_1': 'en', 'name': 'English'}]</td>\n",
              "      <td>Released</td>\n",
              "      <td>Friends are the people who let you be yourself...</td>\n",
              "      <td>Waiting to Exhale</td>\n",
              "      <td>False</td>\n",
              "      <td>6.1</td>\n",
              "      <td>34.0</td>\n",
              "    </tr>\n",
              "    <tr>\n",
              "      <th>4</th>\n",
              "      <td>False</td>\n",
              "      <td>{'id': 96871, 'name': 'Father of the Bride Col...</td>\n",
              "      <td>0</td>\n",
              "      <td>[{'id': 35, 'name': 'Comedy'}]</td>\n",
              "      <td>NaN</td>\n",
              "      <td>11862</td>\n",
              "      <td>tt0113041</td>\n",
              "      <td>en</td>\n",
              "      <td>Father of the Bride Part II</td>\n",
              "      <td>Just when George Banks has recovered from his ...</td>\n",
              "      <td>...</td>\n",
              "      <td>1995-02-10</td>\n",
              "      <td>76578911.0</td>\n",
              "      <td>106.0</td>\n",
              "      <td>[{'iso_639_1': 'en', 'name': 'English'}]</td>\n",
              "      <td>Released</td>\n",
              "      <td>Just When His World Is Back To Normal... He's ...</td>\n",
              "      <td>Father of the Bride Part II</td>\n",
              "      <td>False</td>\n",
              "      <td>5.7</td>\n",
              "      <td>173.0</td>\n",
              "    </tr>\n",
              "  </tbody>\n",
              "</table>\n",
              "<p>5 rows × 24 columns</p>\n",
              "</div>\n",
              "      <button class=\"colab-df-convert\" onclick=\"convertToInteractive('df-95cb9ed3-0ccd-422a-921c-ff14576cf84f')\"\n",
              "              title=\"Convert this dataframe to an interactive table.\"\n",
              "              style=\"display:none;\">\n",
              "        \n",
              "  <svg xmlns=\"http://www.w3.org/2000/svg\" height=\"24px\"viewBox=\"0 0 24 24\"\n",
              "       width=\"24px\">\n",
              "    <path d=\"M0 0h24v24H0V0z\" fill=\"none\"/>\n",
              "    <path d=\"M18.56 5.44l.94 2.06.94-2.06 2.06-.94-2.06-.94-.94-2.06-.94 2.06-2.06.94zm-11 1L8.5 8.5l.94-2.06 2.06-.94-2.06-.94L8.5 2.5l-.94 2.06-2.06.94zm10 10l.94 2.06.94-2.06 2.06-.94-2.06-.94-.94-2.06-.94 2.06-2.06.94z\"/><path d=\"M17.41 7.96l-1.37-1.37c-.4-.4-.92-.59-1.43-.59-.52 0-1.04.2-1.43.59L10.3 9.45l-7.72 7.72c-.78.78-.78 2.05 0 2.83L4 21.41c.39.39.9.59 1.41.59.51 0 1.02-.2 1.41-.59l7.78-7.78 2.81-2.81c.8-.78.8-2.07 0-2.86zM5.41 20L4 18.59l7.72-7.72 1.47 1.35L5.41 20z\"/>\n",
              "  </svg>\n",
              "      </button>\n",
              "      \n",
              "  <style>\n",
              "    .colab-df-container {\n",
              "      display:flex;\n",
              "      flex-wrap:wrap;\n",
              "      gap: 12px;\n",
              "    }\n",
              "\n",
              "    .colab-df-convert {\n",
              "      background-color: #E8F0FE;\n",
              "      border: none;\n",
              "      border-radius: 50%;\n",
              "      cursor: pointer;\n",
              "      display: none;\n",
              "      fill: #1967D2;\n",
              "      height: 32px;\n",
              "      padding: 0 0 0 0;\n",
              "      width: 32px;\n",
              "    }\n",
              "\n",
              "    .colab-df-convert:hover {\n",
              "      background-color: #E2EBFA;\n",
              "      box-shadow: 0px 1px 2px rgba(60, 64, 67, 0.3), 0px 1px 3px 1px rgba(60, 64, 67, 0.15);\n",
              "      fill: #174EA6;\n",
              "    }\n",
              "\n",
              "    [theme=dark] .colab-df-convert {\n",
              "      background-color: #3B4455;\n",
              "      fill: #D2E3FC;\n",
              "    }\n",
              "\n",
              "    [theme=dark] .colab-df-convert:hover {\n",
              "      background-color: #434B5C;\n",
              "      box-shadow: 0px 1px 3px 1px rgba(0, 0, 0, 0.15);\n",
              "      filter: drop-shadow(0px 1px 2px rgba(0, 0, 0, 0.3));\n",
              "      fill: #FFFFFF;\n",
              "    }\n",
              "  </style>\n",
              "\n",
              "      <script>\n",
              "        const buttonEl =\n",
              "          document.querySelector('#df-95cb9ed3-0ccd-422a-921c-ff14576cf84f button.colab-df-convert');\n",
              "        buttonEl.style.display =\n",
              "          google.colab.kernel.accessAllowed ? 'block' : 'none';\n",
              "\n",
              "        async function convertToInteractive(key) {\n",
              "          const element = document.querySelector('#df-95cb9ed3-0ccd-422a-921c-ff14576cf84f');\n",
              "          const dataTable =\n",
              "            await google.colab.kernel.invokeFunction('convertToInteractive',\n",
              "                                                     [key], {});\n",
              "          if (!dataTable) return;\n",
              "\n",
              "          const docLinkHtml = 'Like what you see? Visit the ' +\n",
              "            '<a target=\"_blank\" href=https://colab.research.google.com/notebooks/data_table.ipynb>data table notebook</a>'\n",
              "            + ' to learn more about interactive tables.';\n",
              "          element.innerHTML = '';\n",
              "          dataTable['output_type'] = 'display_data';\n",
              "          await google.colab.output.renderOutput(dataTable, element);\n",
              "          const docLink = document.createElement('div');\n",
              "          docLink.innerHTML = docLinkHtml;\n",
              "          element.appendChild(docLink);\n",
              "        }\n",
              "      </script>\n",
              "    </div>\n",
              "  </div>\n",
              "  "
            ]
          },
          "metadata": {},
          "execution_count": 6
        }
      ]
    },
    {
      "cell_type": "code",
      "source": [
        "md['genres'] = md['genres'].fillna('[]').apply(literal_eval).apply(lambda x: [i['name'] for i in x] if isinstance(x, list) else [])"
      ],
      "metadata": {
        "id": "voCSN9MgkfC9"
      },
      "execution_count": 7,
      "outputs": []
    },
    {
      "cell_type": "markdown",
      "source": [
        "# Content Based Recommendation\n"
      ],
      "metadata": {
        "id": "cHu0STYsiaQZ"
      }
    },
    {
      "cell_type": "code",
      "source": [
        "md = md.drop([19730, 29503, 35587]) #drop due to error in id\n",
        "md['id'] = md['id'].astype('int')"
      ],
      "metadata": {
        "id": "o7vO2PDwnM9K"
      },
      "execution_count": 8,
      "outputs": []
    },
    {
      "cell_type": "code",
      "source": [
        "df = md[md['id'].isin(links_small)]"
      ],
      "metadata": {
        "id": "gcFYyZQrnMwK"
      },
      "execution_count": 9,
      "outputs": []
    },
    {
      "cell_type": "code",
      "source": [
        "df.shape"
      ],
      "metadata": {
        "colab": {
          "base_uri": "https://localhost:8080/"
        },
        "id": "U6fMWCRMO0Ty",
        "outputId": "c6e95375-0975-49f1-dd3f-f1c18c0228e3"
      },
      "execution_count": 10,
      "outputs": [
        {
          "output_type": "execute_result",
          "data": {
            "text/plain": [
              "(9099, 24)"
            ]
          },
          "metadata": {},
          "execution_count": 10
        }
      ]
    },
    {
      "cell_type": "code",
      "source": [
        "df.columns"
      ],
      "metadata": {
        "colab": {
          "base_uri": "https://localhost:8080/"
        },
        "id": "ZU-MjyggO0Qi",
        "outputId": "79fe31ca-6ce0-40a5-9b9e-79d6619208ce"
      },
      "execution_count": 11,
      "outputs": [
        {
          "output_type": "execute_result",
          "data": {
            "text/plain": [
              "Index(['adult', 'belongs_to_collection', 'budget', 'genres', 'homepage', 'id',\n",
              "       'imdb_id', 'original_language', 'original_title', 'overview',\n",
              "       'popularity', 'poster_path', 'production_companies',\n",
              "       'production_countries', 'release_date', 'revenue', 'runtime',\n",
              "       'spoken_languages', 'status', 'tagline', 'title', 'video',\n",
              "       'vote_average', 'vote_count'],\n",
              "      dtype='object')"
            ]
          },
          "metadata": {},
          "execution_count": 11
        }
      ]
    },
    {
      "cell_type": "code",
      "source": [
        "df['overview'][1]"
      ],
      "metadata": {
        "colab": {
          "base_uri": "https://localhost:8080/",
          "height": 70
        },
        "id": "9mtA733goRBp",
        "outputId": "648a1359-e6e4-4336-d8df-fea4f9734fa9"
      },
      "execution_count": 12,
      "outputs": [
        {
          "output_type": "execute_result",
          "data": {
            "text/plain": [
              "\"When siblings Judy and Peter discover an enchanted board game that opens the door to a magical world, they unwittingly invite Alan -- an adult who's been trapped inside the game for 26 years -- into their living room. Alan's only hope for freedom is to finish the game, which proves risky as all three find themselves running from giant rhinoceroses, evil monkeys and other terrifying creatures.\""
            ],
            "application/vnd.google.colaboratory.intrinsic+json": {
              "type": "string"
            }
          },
          "metadata": {},
          "execution_count": 12
        }
      ]
    },
    {
      "cell_type": "code",
      "source": [
        "import re"
      ],
      "metadata": {
        "id": "8geUp7fxT1OZ"
      },
      "execution_count": 13,
      "outputs": []
    },
    {
      "cell_type": "code",
      "source": [
        "import nltk\n",
        "nltk.download('stopwords')"
      ],
      "metadata": {
        "colab": {
          "base_uri": "https://localhost:8080/"
        },
        "id": "Yp7PYe4ZX1gT",
        "outputId": "1e0b00ef-42bc-4d2c-b120-c99bffe048ed"
      },
      "execution_count": 14,
      "outputs": [
        {
          "output_type": "stream",
          "name": "stderr",
          "text": [
            "[nltk_data] Downloading package stopwords to /root/nltk_data...\n",
            "[nltk_data]   Unzipping corpora/stopwords.zip.\n"
          ]
        },
        {
          "output_type": "execute_result",
          "data": {
            "text/plain": [
              "True"
            ]
          },
          "metadata": {},
          "execution_count": 14
        }
      ]
    },
    {
      "cell_type": "code",
      "source": [
        "snow_stemmer = SnowballStemmer(language='english')\n",
        "stop = stopwords.words('english')"
      ],
      "metadata": {
        "id": "j7qXHe-zUbno"
      },
      "execution_count": 15,
      "outputs": []
    },
    {
      "cell_type": "code",
      "source": [
        "def review_to_words(description):\n",
        "    # 1. Make a space\n",
        "    letters_only = re.sub(\"[^a-zA-Z]\",   \" \",  description)\n",
        "    # 2. lower letters\n",
        "    words = letters_only.lower().split()\n",
        "    # 3. Stopwords\n",
        "    meaningful_words = [w for w in words if not w in stop]\n",
        "    # 4. lemmitization\n",
        "    stemmatize_words = [snow_stemmer.stem(w) for w in meaningful_words]\n",
        "    # 5. space join words\n",
        "    return( ' '.join(stemmatize_words))"
      ],
      "metadata": {
        "id": "ZO4uvEtVO0Hs"
      },
      "execution_count": 16,
      "outputs": []
    },
    {
      "cell_type": "code",
      "source": [
        "df['overview'] = df['overview'] + df['tagline']\n",
        "df['overview'] = df['overview'].fillna('')\n",
        "df['overview'] = df['overview'].apply(review_to_words)"
      ],
      "metadata": {
        "colab": {
          "base_uri": "https://localhost:8080/"
        },
        "id": "0QTiTw1NO0Go",
        "outputId": "415206e3-a2b6-4afd-bb0c-26c285ec9d9a"
      },
      "execution_count": 17,
      "outputs": [
        {
          "output_type": "stream",
          "name": "stderr",
          "text": [
            "<ipython-input-17-5b110275bbb4>:1: SettingWithCopyWarning: \n",
            "A value is trying to be set on a copy of a slice from a DataFrame.\n",
            "Try using .loc[row_indexer,col_indexer] = value instead\n",
            "\n",
            "See the caveats in the documentation: https://pandas.pydata.org/pandas-docs/stable/user_guide/indexing.html#returning-a-view-versus-a-copy\n",
            "  df['overview'] = df['overview'] + df['tagline']\n",
            "<ipython-input-17-5b110275bbb4>:2: SettingWithCopyWarning: \n",
            "A value is trying to be set on a copy of a slice from a DataFrame.\n",
            "Try using .loc[row_indexer,col_indexer] = value instead\n",
            "\n",
            "See the caveats in the documentation: https://pandas.pydata.org/pandas-docs/stable/user_guide/indexing.html#returning-a-view-versus-a-copy\n",
            "  df['overview'] = df['overview'].fillna('')\n",
            "<ipython-input-17-5b110275bbb4>:3: SettingWithCopyWarning: \n",
            "A value is trying to be set on a copy of a slice from a DataFrame.\n",
            "Try using .loc[row_indexer,col_indexer] = value instead\n",
            "\n",
            "See the caveats in the documentation: https://pandas.pydata.org/pandas-docs/stable/user_guide/indexing.html#returning-a-view-versus-a-copy\n",
            "  df['overview'] = df['overview'].apply(review_to_words)\n"
          ]
        }
      ]
    },
    {
      "cell_type": "code",
      "source": [
        "df['overview']"
      ],
      "metadata": {
        "id": "AU5M3PwTxb0-",
        "outputId": "ecbdd02e-5168-456a-9741-f25a3af08453",
        "colab": {
          "base_uri": "https://localhost:8080/"
        }
      },
      "execution_count": 18,
      "outputs": [
        {
          "output_type": "execute_result",
          "data": {
            "text/plain": [
              "0                                                         \n",
              "1        sibl judi peter discov enchant board game open...\n",
              "2        famili wed reignit ancient feud next door neig...\n",
              "3        cheat mistreat step women hold breath wait elu...\n",
              "4        georg bank recov daughter wed receiv news preg...\n",
              "                               ...                        \n",
              "40224    mind behind evangelion come hit larger life ma...\n",
              "40503    band storm europ conquer america groundbreak w...\n",
              "44821    molli hale sad father disappear get unknow use...\n",
              "44826                                                     \n",
              "45265                                                     \n",
              "Name: overview, Length: 9099, dtype: object"
            ]
          },
          "metadata": {},
          "execution_count": 18
        }
      ]
    },
    {
      "cell_type": "code",
      "source": [
        "tf = TfidfVectorizer(analyzer='word',stop_words='english', max_df=0.8)\n",
        "tfidf_matrix = tf.fit_transform(df['overview'])"
      ],
      "metadata": {
        "id": "pPmb9vfEa-en"
      },
      "execution_count": 19,
      "outputs": []
    },
    {
      "cell_type": "code",
      "source": [
        "tfidf_matrix.shape"
      ],
      "metadata": {
        "id": "uBJq0Jnqa-dZ",
        "colab": {
          "base_uri": "https://localhost:8080/"
        },
        "outputId": "29b2d7dd-e392-481e-c933-6e4ba17a007e"
      },
      "execution_count": 20,
      "outputs": [
        {
          "output_type": "execute_result",
          "data": {
            "text/plain": [
              "(9099, 18386)"
            ]
          },
          "metadata": {},
          "execution_count": 20
        }
      ]
    },
    {
      "cell_type": "code",
      "source": [
        "cosine_sim = linear_kernel(tfidf_matrix, tfidf_matrix)"
      ],
      "metadata": {
        "id": "fOpVKkASa-Zs"
      },
      "execution_count": 21,
      "outputs": []
    },
    {
      "cell_type": "code",
      "source": [
        "cosine_sim[0]"
      ],
      "metadata": {
        "id": "6IP_eA1Fa-UO",
        "colab": {
          "base_uri": "https://localhost:8080/"
        },
        "outputId": "051ea236-c791-48e2-e739-d8bc0652ae67"
      },
      "execution_count": 22,
      "outputs": [
        {
          "output_type": "execute_result",
          "data": {
            "text/plain": [
              "array([0., 0., 0., ..., 0., 0., 0.])"
            ]
          },
          "metadata": {},
          "execution_count": 22
        }
      ]
    },
    {
      "cell_type": "code",
      "source": [
        "df = df.reset_index()\n",
        "titles = df['title']\n",
        "indices = pd.Series(df.index, index=df['title'])\n",
        "indices"
      ],
      "metadata": {
        "id": "pUzcmEH6O0B-",
        "colab": {
          "base_uri": "https://localhost:8080/"
        },
        "outputId": "908ae53b-e081-4c24-b851-43659d58b92c"
      },
      "execution_count": 23,
      "outputs": [
        {
          "output_type": "execute_result",
          "data": {
            "text/plain": [
              "title\n",
              "Toy Story                                                0\n",
              "Jumanji                                                  1\n",
              "Grumpier Old Men                                         2\n",
              "Waiting to Exhale                                        3\n",
              "Father of the Bride Part II                              4\n",
              "                                                      ... \n",
              "Shin Godzilla                                         9094\n",
              "The Beatles: Eight Days a Week - The Touring Years    9095\n",
              "Pokémon: Spell of the Unknown                         9096\n",
              "Pokémon 4Ever: Celebi - Voice of the Forest           9097\n",
              "Force Majeure                                         9098\n",
              "Length: 9099, dtype: int64"
            ]
          },
          "metadata": {},
          "execution_count": 23
        }
      ]
    },
    {
      "cell_type": "code",
      "source": [
        "def recommendation(title):\n",
        "  #similar movies based on cosine similarity\n",
        "  index = indices[title]\n",
        "  similarity = list(enumerate(cosine_sim[index]))\n",
        "  similarity = sorted(similarity, key=lambda x: x[1], reverse=True)\n",
        "  similarity = similarity[1:31]\n",
        "  movie_index = [i[0] for i in similarity]\n",
        "  movies = df.iloc[movie_index][['title', 'vote_count', 'vote_average']]\n",
        "\n",
        "  #highest rated amongst similar movies using IMDB's weighted rating\n",
        "  vote_count = movies['vote_count'].astype('int')\n",
        "  vote_average = movies['vote_average'].astype('int')\n",
        "\n",
        "  C = vote_average.mean()\n",
        "  m = vote_count.quantile(0.60)\n",
        "\n",
        "  qualified = movies[(movies['vote_count'] >= m)]\n",
        "  qualified['vote_count'] = qualified['vote_count'].astype('int')\n",
        "  qualified['vote_average'] = qualified['vote_average'].astype('int')\n",
        "\n",
        "  qualified['wr'] =  qualified.apply(lambda x: (x['vote_count']/(x['vote_count']+m) * x['vote_average']) + (m/(m+x['vote_count']) * C), axis=1)\n",
        "  qualified = qualified.sort_values('wr', ascending=False).head(10)\n",
        "  return qualified"
      ],
      "metadata": {
        "id": "N0RcqsSOfPnu"
      },
      "execution_count": 24,
      "outputs": []
    },
    {
      "cell_type": "code",
      "source": [
        "recommendation('Iron Man 2').head(10)"
      ],
      "metadata": {
        "id": "LQKmLiJnfPmc",
        "colab": {
          "base_uri": "https://localhost:8080/",
          "height": 675
        },
        "outputId": "d74f23f0-daf7-4ae6-9fbd-7457cb9fa984"
      },
      "execution_count": 25,
      "outputs": [
        {
          "output_type": "stream",
          "name": "stderr",
          "text": [
            "<ipython-input-24-8cdc6f999bec>:18: SettingWithCopyWarning: \n",
            "A value is trying to be set on a copy of a slice from a DataFrame.\n",
            "Try using .loc[row_indexer,col_indexer] = value instead\n",
            "\n",
            "See the caveats in the documentation: https://pandas.pydata.org/pandas-docs/stable/user_guide/indexing.html#returning-a-view-versus-a-copy\n",
            "  qualified['vote_count'] = qualified['vote_count'].astype('int')\n",
            "<ipython-input-24-8cdc6f999bec>:19: SettingWithCopyWarning: \n",
            "A value is trying to be set on a copy of a slice from a DataFrame.\n",
            "Try using .loc[row_indexer,col_indexer] = value instead\n",
            "\n",
            "See the caveats in the documentation: https://pandas.pydata.org/pandas-docs/stable/user_guide/indexing.html#returning-a-view-versus-a-copy\n",
            "  qualified['vote_average'] = qualified['vote_average'].astype('int')\n",
            "<ipython-input-24-8cdc6f999bec>:21: SettingWithCopyWarning: \n",
            "A value is trying to be set on a copy of a slice from a DataFrame.\n",
            "Try using .loc[row_indexer,col_indexer] = value instead\n",
            "\n",
            "See the caveats in the documentation: https://pandas.pydata.org/pandas-docs/stable/user_guide/indexing.html#returning-a-view-versus-a-copy\n",
            "  qualified['wr'] =  qualified.apply(lambda x: (x['vote_count']/(x['vote_count']+m) * x['vote_average']) + (m/(m+x['vote_count']) * C), axis=1)\n"
          ]
        },
        {
          "output_type": "execute_result",
          "data": {
            "text/plain": [
              "                        title  vote_count  vote_average        wr\n",
              "8754       Mad Max: Fury Road        9629             7  6.953666\n",
              "6928                 Iron Man        8951             7  6.950294\n",
              "8758  Avengers: Age of Ultron        6908             7  6.936332\n",
              "8666                     Fury        4028             7  6.894598\n",
              "8285               Iron Man 3        8951             6  5.989536\n",
              "8312             Man of Steel        6462             6  5.985721\n",
              "8824                Insurgent        3921             6  5.977256\n",
              "9067         Now You See Me 2        3362             6  5.973846\n",
              "7639                 Megamind        1968             6  5.958222\n",
              "4268     Saturday Night Fever         383             6  5.869766"
            ],
            "text/html": [
              "\n",
              "  <div id=\"df-17c9a8f6-fe71-48f8-9bd2-18402c3ee50f\">\n",
              "    <div class=\"colab-df-container\">\n",
              "      <div>\n",
              "<style scoped>\n",
              "    .dataframe tbody tr th:only-of-type {\n",
              "        vertical-align: middle;\n",
              "    }\n",
              "\n",
              "    .dataframe tbody tr th {\n",
              "        vertical-align: top;\n",
              "    }\n",
              "\n",
              "    .dataframe thead th {\n",
              "        text-align: right;\n",
              "    }\n",
              "</style>\n",
              "<table border=\"1\" class=\"dataframe\">\n",
              "  <thead>\n",
              "    <tr style=\"text-align: right;\">\n",
              "      <th></th>\n",
              "      <th>title</th>\n",
              "      <th>vote_count</th>\n",
              "      <th>vote_average</th>\n",
              "      <th>wr</th>\n",
              "    </tr>\n",
              "  </thead>\n",
              "  <tbody>\n",
              "    <tr>\n",
              "      <th>8754</th>\n",
              "      <td>Mad Max: Fury Road</td>\n",
              "      <td>9629</td>\n",
              "      <td>7</td>\n",
              "      <td>6.953666</td>\n",
              "    </tr>\n",
              "    <tr>\n",
              "      <th>6928</th>\n",
              "      <td>Iron Man</td>\n",
              "      <td>8951</td>\n",
              "      <td>7</td>\n",
              "      <td>6.950294</td>\n",
              "    </tr>\n",
              "    <tr>\n",
              "      <th>8758</th>\n",
              "      <td>Avengers: Age of Ultron</td>\n",
              "      <td>6908</td>\n",
              "      <td>7</td>\n",
              "      <td>6.936332</td>\n",
              "    </tr>\n",
              "    <tr>\n",
              "      <th>8666</th>\n",
              "      <td>Fury</td>\n",
              "      <td>4028</td>\n",
              "      <td>7</td>\n",
              "      <td>6.894598</td>\n",
              "    </tr>\n",
              "    <tr>\n",
              "      <th>8285</th>\n",
              "      <td>Iron Man 3</td>\n",
              "      <td>8951</td>\n",
              "      <td>6</td>\n",
              "      <td>5.989536</td>\n",
              "    </tr>\n",
              "    <tr>\n",
              "      <th>8312</th>\n",
              "      <td>Man of Steel</td>\n",
              "      <td>6462</td>\n",
              "      <td>6</td>\n",
              "      <td>5.985721</td>\n",
              "    </tr>\n",
              "    <tr>\n",
              "      <th>8824</th>\n",
              "      <td>Insurgent</td>\n",
              "      <td>3921</td>\n",
              "      <td>6</td>\n",
              "      <td>5.977256</td>\n",
              "    </tr>\n",
              "    <tr>\n",
              "      <th>9067</th>\n",
              "      <td>Now You See Me 2</td>\n",
              "      <td>3362</td>\n",
              "      <td>6</td>\n",
              "      <td>5.973846</td>\n",
              "    </tr>\n",
              "    <tr>\n",
              "      <th>7639</th>\n",
              "      <td>Megamind</td>\n",
              "      <td>1968</td>\n",
              "      <td>6</td>\n",
              "      <td>5.958222</td>\n",
              "    </tr>\n",
              "    <tr>\n",
              "      <th>4268</th>\n",
              "      <td>Saturday Night Fever</td>\n",
              "      <td>383</td>\n",
              "      <td>6</td>\n",
              "      <td>5.869766</td>\n",
              "    </tr>\n",
              "  </tbody>\n",
              "</table>\n",
              "</div>\n",
              "      <button class=\"colab-df-convert\" onclick=\"convertToInteractive('df-17c9a8f6-fe71-48f8-9bd2-18402c3ee50f')\"\n",
              "              title=\"Convert this dataframe to an interactive table.\"\n",
              "              style=\"display:none;\">\n",
              "        \n",
              "  <svg xmlns=\"http://www.w3.org/2000/svg\" height=\"24px\"viewBox=\"0 0 24 24\"\n",
              "       width=\"24px\">\n",
              "    <path d=\"M0 0h24v24H0V0z\" fill=\"none\"/>\n",
              "    <path d=\"M18.56 5.44l.94 2.06.94-2.06 2.06-.94-2.06-.94-.94-2.06-.94 2.06-2.06.94zm-11 1L8.5 8.5l.94-2.06 2.06-.94-2.06-.94L8.5 2.5l-.94 2.06-2.06.94zm10 10l.94 2.06.94-2.06 2.06-.94-2.06-.94-.94-2.06-.94 2.06-2.06.94z\"/><path d=\"M17.41 7.96l-1.37-1.37c-.4-.4-.92-.59-1.43-.59-.52 0-1.04.2-1.43.59L10.3 9.45l-7.72 7.72c-.78.78-.78 2.05 0 2.83L4 21.41c.39.39.9.59 1.41.59.51 0 1.02-.2 1.41-.59l7.78-7.78 2.81-2.81c.8-.78.8-2.07 0-2.86zM5.41 20L4 18.59l7.72-7.72 1.47 1.35L5.41 20z\"/>\n",
              "  </svg>\n",
              "      </button>\n",
              "      \n",
              "  <style>\n",
              "    .colab-df-container {\n",
              "      display:flex;\n",
              "      flex-wrap:wrap;\n",
              "      gap: 12px;\n",
              "    }\n",
              "\n",
              "    .colab-df-convert {\n",
              "      background-color: #E8F0FE;\n",
              "      border: none;\n",
              "      border-radius: 50%;\n",
              "      cursor: pointer;\n",
              "      display: none;\n",
              "      fill: #1967D2;\n",
              "      height: 32px;\n",
              "      padding: 0 0 0 0;\n",
              "      width: 32px;\n",
              "    }\n",
              "\n",
              "    .colab-df-convert:hover {\n",
              "      background-color: #E2EBFA;\n",
              "      box-shadow: 0px 1px 2px rgba(60, 64, 67, 0.3), 0px 1px 3px 1px rgba(60, 64, 67, 0.15);\n",
              "      fill: #174EA6;\n",
              "    }\n",
              "\n",
              "    [theme=dark] .colab-df-convert {\n",
              "      background-color: #3B4455;\n",
              "      fill: #D2E3FC;\n",
              "    }\n",
              "\n",
              "    [theme=dark] .colab-df-convert:hover {\n",
              "      background-color: #434B5C;\n",
              "      box-shadow: 0px 1px 3px 1px rgba(0, 0, 0, 0.15);\n",
              "      filter: drop-shadow(0px 1px 2px rgba(0, 0, 0, 0.3));\n",
              "      fill: #FFFFFF;\n",
              "    }\n",
              "  </style>\n",
              "\n",
              "      <script>\n",
              "        const buttonEl =\n",
              "          document.querySelector('#df-17c9a8f6-fe71-48f8-9bd2-18402c3ee50f button.colab-df-convert');\n",
              "        buttonEl.style.display =\n",
              "          google.colab.kernel.accessAllowed ? 'block' : 'none';\n",
              "\n",
              "        async function convertToInteractive(key) {\n",
              "          const element = document.querySelector('#df-17c9a8f6-fe71-48f8-9bd2-18402c3ee50f');\n",
              "          const dataTable =\n",
              "            await google.colab.kernel.invokeFunction('convertToInteractive',\n",
              "                                                     [key], {});\n",
              "          if (!dataTable) return;\n",
              "\n",
              "          const docLinkHtml = 'Like what you see? Visit the ' +\n",
              "            '<a target=\"_blank\" href=https://colab.research.google.com/notebooks/data_table.ipynb>data table notebook</a>'\n",
              "            + ' to learn more about interactive tables.';\n",
              "          element.innerHTML = '';\n",
              "          dataTable['output_type'] = 'display_data';\n",
              "          await google.colab.output.renderOutput(dataTable, element);\n",
              "          const docLink = document.createElement('div');\n",
              "          docLink.innerHTML = docLinkHtml;\n",
              "          element.appendChild(docLink);\n",
              "        }\n",
              "      </script>\n",
              "    </div>\n",
              "  </div>\n",
              "  "
            ]
          },
          "metadata": {},
          "execution_count": 25
        }
      ]
    },
    {
      "cell_type": "code",
      "source": [
        "recommendation('Mean Girls').head(10)"
      ],
      "metadata": {
        "id": "4N0LkP8iu6Gx",
        "colab": {
          "base_uri": "https://localhost:8080/",
          "height": 675
        },
        "outputId": "b97b59ad-9cd6-4282-d4cc-7caa938c1045"
      },
      "execution_count": 26,
      "outputs": [
        {
          "output_type": "stream",
          "name": "stderr",
          "text": [
            "<ipython-input-24-8cdc6f999bec>:18: SettingWithCopyWarning: \n",
            "A value is trying to be set on a copy of a slice from a DataFrame.\n",
            "Try using .loc[row_indexer,col_indexer] = value instead\n",
            "\n",
            "See the caveats in the documentation: https://pandas.pydata.org/pandas-docs/stable/user_guide/indexing.html#returning-a-view-versus-a-copy\n",
            "  qualified['vote_count'] = qualified['vote_count'].astype('int')\n",
            "<ipython-input-24-8cdc6f999bec>:19: SettingWithCopyWarning: \n",
            "A value is trying to be set on a copy of a slice from a DataFrame.\n",
            "Try using .loc[row_indexer,col_indexer] = value instead\n",
            "\n",
            "See the caveats in the documentation: https://pandas.pydata.org/pandas-docs/stable/user_guide/indexing.html#returning-a-view-versus-a-copy\n",
            "  qualified['vote_average'] = qualified['vote_average'].astype('int')\n",
            "<ipython-input-24-8cdc6f999bec>:21: SettingWithCopyWarning: \n",
            "A value is trying to be set on a copy of a slice from a DataFrame.\n",
            "Try using .loc[row_indexer,col_indexer] = value instead\n",
            "\n",
            "See the caveats in the documentation: https://pandas.pydata.org/pandas-docs/stable/user_guide/indexing.html#returning-a-view-versus-a-copy\n",
            "  qualified['wr'] =  qualified.apply(lambda x: (x['vote_count']/(x['vote_count']+m) * x['vote_average']) + (m/(m+x['vote_count']) * C), axis=1)\n"
          ]
        },
        {
          "output_type": "execute_result",
          "data": {
            "text/plain": [
              "                    title  vote_count  vote_average        wr\n",
              "3372                 Blow        1352             7  6.804837\n",
              "1083            Cape Fear         692             7  6.671164\n",
              "994             Manhattan         600             7  6.636454\n",
              "7742      Just Go with It        1588             6  5.975658\n",
              "6320         District B13         572             6  5.946341\n",
              "4921   The Last Boy Scout         502             6  5.941486\n",
              "7118           Wild Child         421             6  5.934642\n",
              "608             The Craft         388             6  5.931373\n",
              "3244  Save the Last Dance         359             6  5.928217\n",
              "3776              Bandits         307             6  5.921765"
            ],
            "text/html": [
              "\n",
              "  <div id=\"df-cdd2633f-2034-4f9e-9ff6-8e77e0b79ee4\">\n",
              "    <div class=\"colab-df-container\">\n",
              "      <div>\n",
              "<style scoped>\n",
              "    .dataframe tbody tr th:only-of-type {\n",
              "        vertical-align: middle;\n",
              "    }\n",
              "\n",
              "    .dataframe tbody tr th {\n",
              "        vertical-align: top;\n",
              "    }\n",
              "\n",
              "    .dataframe thead th {\n",
              "        text-align: right;\n",
              "    }\n",
              "</style>\n",
              "<table border=\"1\" class=\"dataframe\">\n",
              "  <thead>\n",
              "    <tr style=\"text-align: right;\">\n",
              "      <th></th>\n",
              "      <th>title</th>\n",
              "      <th>vote_count</th>\n",
              "      <th>vote_average</th>\n",
              "      <th>wr</th>\n",
              "    </tr>\n",
              "  </thead>\n",
              "  <tbody>\n",
              "    <tr>\n",
              "      <th>3372</th>\n",
              "      <td>Blow</td>\n",
              "      <td>1352</td>\n",
              "      <td>7</td>\n",
              "      <td>6.804837</td>\n",
              "    </tr>\n",
              "    <tr>\n",
              "      <th>1083</th>\n",
              "      <td>Cape Fear</td>\n",
              "      <td>692</td>\n",
              "      <td>7</td>\n",
              "      <td>6.671164</td>\n",
              "    </tr>\n",
              "    <tr>\n",
              "      <th>994</th>\n",
              "      <td>Manhattan</td>\n",
              "      <td>600</td>\n",
              "      <td>7</td>\n",
              "      <td>6.636454</td>\n",
              "    </tr>\n",
              "    <tr>\n",
              "      <th>7742</th>\n",
              "      <td>Just Go with It</td>\n",
              "      <td>1588</td>\n",
              "      <td>6</td>\n",
              "      <td>5.975658</td>\n",
              "    </tr>\n",
              "    <tr>\n",
              "      <th>6320</th>\n",
              "      <td>District B13</td>\n",
              "      <td>572</td>\n",
              "      <td>6</td>\n",
              "      <td>5.946341</td>\n",
              "    </tr>\n",
              "    <tr>\n",
              "      <th>4921</th>\n",
              "      <td>The Last Boy Scout</td>\n",
              "      <td>502</td>\n",
              "      <td>6</td>\n",
              "      <td>5.941486</td>\n",
              "    </tr>\n",
              "    <tr>\n",
              "      <th>7118</th>\n",
              "      <td>Wild Child</td>\n",
              "      <td>421</td>\n",
              "      <td>6</td>\n",
              "      <td>5.934642</td>\n",
              "    </tr>\n",
              "    <tr>\n",
              "      <th>608</th>\n",
              "      <td>The Craft</td>\n",
              "      <td>388</td>\n",
              "      <td>6</td>\n",
              "      <td>5.931373</td>\n",
              "    </tr>\n",
              "    <tr>\n",
              "      <th>3244</th>\n",
              "      <td>Save the Last Dance</td>\n",
              "      <td>359</td>\n",
              "      <td>6</td>\n",
              "      <td>5.928217</td>\n",
              "    </tr>\n",
              "    <tr>\n",
              "      <th>3776</th>\n",
              "      <td>Bandits</td>\n",
              "      <td>307</td>\n",
              "      <td>6</td>\n",
              "      <td>5.921765</td>\n",
              "    </tr>\n",
              "  </tbody>\n",
              "</table>\n",
              "</div>\n",
              "      <button class=\"colab-df-convert\" onclick=\"convertToInteractive('df-cdd2633f-2034-4f9e-9ff6-8e77e0b79ee4')\"\n",
              "              title=\"Convert this dataframe to an interactive table.\"\n",
              "              style=\"display:none;\">\n",
              "        \n",
              "  <svg xmlns=\"http://www.w3.org/2000/svg\" height=\"24px\"viewBox=\"0 0 24 24\"\n",
              "       width=\"24px\">\n",
              "    <path d=\"M0 0h24v24H0V0z\" fill=\"none\"/>\n",
              "    <path d=\"M18.56 5.44l.94 2.06.94-2.06 2.06-.94-2.06-.94-.94-2.06-.94 2.06-2.06.94zm-11 1L8.5 8.5l.94-2.06 2.06-.94-2.06-.94L8.5 2.5l-.94 2.06-2.06.94zm10 10l.94 2.06.94-2.06 2.06-.94-2.06-.94-.94-2.06-.94 2.06-2.06.94z\"/><path d=\"M17.41 7.96l-1.37-1.37c-.4-.4-.92-.59-1.43-.59-.52 0-1.04.2-1.43.59L10.3 9.45l-7.72 7.72c-.78.78-.78 2.05 0 2.83L4 21.41c.39.39.9.59 1.41.59.51 0 1.02-.2 1.41-.59l7.78-7.78 2.81-2.81c.8-.78.8-2.07 0-2.86zM5.41 20L4 18.59l7.72-7.72 1.47 1.35L5.41 20z\"/>\n",
              "  </svg>\n",
              "      </button>\n",
              "      \n",
              "  <style>\n",
              "    .colab-df-container {\n",
              "      display:flex;\n",
              "      flex-wrap:wrap;\n",
              "      gap: 12px;\n",
              "    }\n",
              "\n",
              "    .colab-df-convert {\n",
              "      background-color: #E8F0FE;\n",
              "      border: none;\n",
              "      border-radius: 50%;\n",
              "      cursor: pointer;\n",
              "      display: none;\n",
              "      fill: #1967D2;\n",
              "      height: 32px;\n",
              "      padding: 0 0 0 0;\n",
              "      width: 32px;\n",
              "    }\n",
              "\n",
              "    .colab-df-convert:hover {\n",
              "      background-color: #E2EBFA;\n",
              "      box-shadow: 0px 1px 2px rgba(60, 64, 67, 0.3), 0px 1px 3px 1px rgba(60, 64, 67, 0.15);\n",
              "      fill: #174EA6;\n",
              "    }\n",
              "\n",
              "    [theme=dark] .colab-df-convert {\n",
              "      background-color: #3B4455;\n",
              "      fill: #D2E3FC;\n",
              "    }\n",
              "\n",
              "    [theme=dark] .colab-df-convert:hover {\n",
              "      background-color: #434B5C;\n",
              "      box-shadow: 0px 1px 3px 1px rgba(0, 0, 0, 0.15);\n",
              "      filter: drop-shadow(0px 1px 2px rgba(0, 0, 0, 0.3));\n",
              "      fill: #FFFFFF;\n",
              "    }\n",
              "  </style>\n",
              "\n",
              "      <script>\n",
              "        const buttonEl =\n",
              "          document.querySelector('#df-cdd2633f-2034-4f9e-9ff6-8e77e0b79ee4 button.colab-df-convert');\n",
              "        buttonEl.style.display =\n",
              "          google.colab.kernel.accessAllowed ? 'block' : 'none';\n",
              "\n",
              "        async function convertToInteractive(key) {\n",
              "          const element = document.querySelector('#df-cdd2633f-2034-4f9e-9ff6-8e77e0b79ee4');\n",
              "          const dataTable =\n",
              "            await google.colab.kernel.invokeFunction('convertToInteractive',\n",
              "                                                     [key], {});\n",
              "          if (!dataTable) return;\n",
              "\n",
              "          const docLinkHtml = 'Like what you see? Visit the ' +\n",
              "            '<a target=\"_blank\" href=https://colab.research.google.com/notebooks/data_table.ipynb>data table notebook</a>'\n",
              "            + ' to learn more about interactive tables.';\n",
              "          element.innerHTML = '';\n",
              "          dataTable['output_type'] = 'display_data';\n",
              "          await google.colab.output.renderOutput(dataTable, element);\n",
              "          const docLink = document.createElement('div');\n",
              "          docLink.innerHTML = docLinkHtml;\n",
              "          element.appendChild(docLink);\n",
              "        }\n",
              "      </script>\n",
              "    </div>\n",
              "  </div>\n",
              "  "
            ]
          },
          "metadata": {},
          "execution_count": 26
        }
      ]
    },
    {
      "cell_type": "markdown",
      "source": [
        "# Collaborative Recommendation System\n"
      ],
      "metadata": {
        "id": "o9IOEET5iFJP"
      }
    },
    {
      "cell_type": "code",
      "source": [
        "ratings =  pd.read_csv(\"/content/drive/MyDrive/Datasets/movie dataset/ratings_small.csv\")"
      ],
      "metadata": {
        "id": "asmO2fsOfPhQ"
      },
      "execution_count": 27,
      "outputs": []
    },
    {
      "cell_type": "code",
      "source": [
        "reader = Reader()\n",
        "data = Dataset.load_from_df(ratings[['userId', 'movieId', 'rating']], reader)\n",
        "kf = KFold(n_splits=5)\n",
        "kf.split(data)"
      ],
      "metadata": {
        "id": "jOpk6SUY0ajX",
        "colab": {
          "base_uri": "https://localhost:8080/"
        },
        "outputId": "efbe141b-1695-4a92-9bd9-3ef9817e5963"
      },
      "execution_count": 28,
      "outputs": [
        {
          "output_type": "execute_result",
          "data": {
            "text/plain": [
              "<generator object KFold.split at 0x7f0fffc74200>"
            ]
          },
          "metadata": {},
          "execution_count": 28
        }
      ]
    },
    {
      "cell_type": "code",
      "source": [
        "from surprise.model_selection import cross_validate\n",
        "svd = SVD()\n",
        "cross_validate(svd, data, measures=['RMSE', 'MAE'])"
      ],
      "metadata": {
        "id": "5eeCWB7G0agv",
        "colab": {
          "base_uri": "https://localhost:8080/"
        },
        "outputId": "7758329a-a283-48a4-e68d-58be0df09ae6"
      },
      "execution_count": 29,
      "outputs": [
        {
          "output_type": "execute_result",
          "data": {
            "text/plain": [
              "{'test_rmse': array([0.90654521, 0.89551453, 0.89446524, 0.89030435, 0.89635311]),\n",
              " 'test_mae': array([0.69666725, 0.68938159, 0.68945993, 0.68735361, 0.69016122]),\n",
              " 'fit_time': (2.838578701019287,\n",
              "  4.212174415588379,\n",
              "  3.857609510421753,\n",
              "  1.6328370571136475,\n",
              "  1.644648790359497),\n",
              " 'test_time': (0.2563488483428955,\n",
              "  0.9515640735626221,\n",
              "  0.3695516586303711,\n",
              "  0.1435396671295166,\n",
              "  0.15069937705993652)}"
            ]
          },
          "metadata": {},
          "execution_count": 29
        }
      ]
    },
    {
      "cell_type": "markdown",
      "source": [
        "# Hybrid Recommendation System\n"
      ],
      "metadata": {
        "id": "C4R7ixKz3r6Z"
      }
    },
    {
      "cell_type": "code",
      "source": [
        "def convert_int(x):\n",
        "    try:\n",
        "        return int(x)\n",
        "    except:\n",
        "        return np.nan\n"
      ],
      "metadata": {
        "id": "KoI8GMWX0adW"
      },
      "execution_count": 30,
      "outputs": []
    },
    {
      "cell_type": "code",
      "source": [
        "id_map = pd.read_csv('/content/drive/MyDrive/Datasets/movie dataset/links_small.csv')[['movieId', 'tmdbId']]\n",
        "id_map['tmdbId'] = id_map['tmdbId'].apply(convert_int)\n",
        "id_map.columns = ['movieId', 'id']\n",
        "id_map = id_map.merge(df[['title', 'id']], on='id').set_index('title')"
      ],
      "metadata": {
        "id": "_axIod4G0acA"
      },
      "execution_count": 31,
      "outputs": []
    },
    {
      "cell_type": "code",
      "source": [
        "#id_map = id_map.set_index('tmdbId')\n",
        "indices_map = id_map.set_index('id')"
      ],
      "metadata": {
        "id": "9IwIMQum0aYa"
      },
      "execution_count": 32,
      "outputs": []
    },
    {
      "cell_type": "code",
      "source": [
        "def hybrid(userId, title):\n",
        "    idx = indices[title]\n",
        "    tmdbId = id_map.loc[title]['id']\n",
        "    #print(idx)\n",
        "    movie_id = id_map.loc[title]['movieId']\n",
        "\n",
        "    sim_scores = list(enumerate(cosine_sim[int(idx)]))\n",
        "    sim_scores = sorted(sim_scores, key=lambda x: x[1], reverse=True)\n",
        "    sim_scores = sim_scores[1:26]\n",
        "    movie_indices = [i[0] for i in sim_scores]\n",
        "\n",
        "    movies = df.iloc[movie_indices][['title', 'vote_count', 'vote_average', 'id']]\n",
        "    movies['est'] = movies['id'].apply(lambda x: svd.predict(userId, indices_map.loc[x]['movieId']).est)\n",
        "    movies = movies.sort_values('est', ascending=False)\n",
        "    return movies.head(10)"
      ],
      "metadata": {
        "id": "4u3NaUg60aXQ"
      },
      "execution_count": 33,
      "outputs": []
    },
    {
      "cell_type": "code",
      "source": [
        "hybrid(1, 'The Dark Knight')"
      ],
      "metadata": {
        "id": "GIs2bi8N3RnX",
        "colab": {
          "base_uri": "https://localhost:8080/",
          "height": 363
        },
        "outputId": "e2fe6cc4-50a8-49a5-899e-1e23e4bab934"
      },
      "execution_count": 34,
      "outputs": [
        {
          "output_type": "execute_result",
          "data": {
            "text/plain": [
              "                                        title  vote_count  vote_average  \\\n",
              "6144                            Batman Begins      7511.0           7.5   \n",
              "7931                    The Dark Knight Rises      9263.0           7.6   \n",
              "2696                                      JFK       513.0           7.5   \n",
              "8165  Batman: The Dark Knight Returns, Part 1       410.0           7.7   \n",
              "8227  Batman: The Dark Knight Returns, Part 2       426.0           7.9   \n",
              "2579             Batman: Mask of the Phantasm       218.0           7.4   \n",
              "8371     Justice League: Crisis on Two Earths       152.0           7.1   \n",
              "7344                      Law Abiding Citizen      1522.0           7.2   \n",
              "7274          Gangster's Paradise: Jerusalema        16.0           6.8   \n",
              "7242                The File on Thelma Jordon         8.0           6.3   \n",
              "\n",
              "          id       est  \n",
              "6144     272  3.284588  \n",
              "7931   49026  3.071187  \n",
              "2696     820  3.026598  \n",
              "8165  123025  3.007012  \n",
              "8227  142061  2.882828  \n",
              "2579   14919  2.874688  \n",
              "8371   30061  2.822536  \n",
              "7344   22803  2.766795  \n",
              "7274   22600  2.735111  \n",
              "7242   35404  2.735111  "
            ],
            "text/html": [
              "\n",
              "  <div id=\"df-ec035821-e071-4815-88a3-a7b27f4d983c\">\n",
              "    <div class=\"colab-df-container\">\n",
              "      <div>\n",
              "<style scoped>\n",
              "    .dataframe tbody tr th:only-of-type {\n",
              "        vertical-align: middle;\n",
              "    }\n",
              "\n",
              "    .dataframe tbody tr th {\n",
              "        vertical-align: top;\n",
              "    }\n",
              "\n",
              "    .dataframe thead th {\n",
              "        text-align: right;\n",
              "    }\n",
              "</style>\n",
              "<table border=\"1\" class=\"dataframe\">\n",
              "  <thead>\n",
              "    <tr style=\"text-align: right;\">\n",
              "      <th></th>\n",
              "      <th>title</th>\n",
              "      <th>vote_count</th>\n",
              "      <th>vote_average</th>\n",
              "      <th>id</th>\n",
              "      <th>est</th>\n",
              "    </tr>\n",
              "  </thead>\n",
              "  <tbody>\n",
              "    <tr>\n",
              "      <th>6144</th>\n",
              "      <td>Batman Begins</td>\n",
              "      <td>7511.0</td>\n",
              "      <td>7.5</td>\n",
              "      <td>272</td>\n",
              "      <td>3.284588</td>\n",
              "    </tr>\n",
              "    <tr>\n",
              "      <th>7931</th>\n",
              "      <td>The Dark Knight Rises</td>\n",
              "      <td>9263.0</td>\n",
              "      <td>7.6</td>\n",
              "      <td>49026</td>\n",
              "      <td>3.071187</td>\n",
              "    </tr>\n",
              "    <tr>\n",
              "      <th>2696</th>\n",
              "      <td>JFK</td>\n",
              "      <td>513.0</td>\n",
              "      <td>7.5</td>\n",
              "      <td>820</td>\n",
              "      <td>3.026598</td>\n",
              "    </tr>\n",
              "    <tr>\n",
              "      <th>8165</th>\n",
              "      <td>Batman: The Dark Knight Returns, Part 1</td>\n",
              "      <td>410.0</td>\n",
              "      <td>7.7</td>\n",
              "      <td>123025</td>\n",
              "      <td>3.007012</td>\n",
              "    </tr>\n",
              "    <tr>\n",
              "      <th>8227</th>\n",
              "      <td>Batman: The Dark Knight Returns, Part 2</td>\n",
              "      <td>426.0</td>\n",
              "      <td>7.9</td>\n",
              "      <td>142061</td>\n",
              "      <td>2.882828</td>\n",
              "    </tr>\n",
              "    <tr>\n",
              "      <th>2579</th>\n",
              "      <td>Batman: Mask of the Phantasm</td>\n",
              "      <td>218.0</td>\n",
              "      <td>7.4</td>\n",
              "      <td>14919</td>\n",
              "      <td>2.874688</td>\n",
              "    </tr>\n",
              "    <tr>\n",
              "      <th>8371</th>\n",
              "      <td>Justice League: Crisis on Two Earths</td>\n",
              "      <td>152.0</td>\n",
              "      <td>7.1</td>\n",
              "      <td>30061</td>\n",
              "      <td>2.822536</td>\n",
              "    </tr>\n",
              "    <tr>\n",
              "      <th>7344</th>\n",
              "      <td>Law Abiding Citizen</td>\n",
              "      <td>1522.0</td>\n",
              "      <td>7.2</td>\n",
              "      <td>22803</td>\n",
              "      <td>2.766795</td>\n",
              "    </tr>\n",
              "    <tr>\n",
              "      <th>7274</th>\n",
              "      <td>Gangster's Paradise: Jerusalema</td>\n",
              "      <td>16.0</td>\n",
              "      <td>6.8</td>\n",
              "      <td>22600</td>\n",
              "      <td>2.735111</td>\n",
              "    </tr>\n",
              "    <tr>\n",
              "      <th>7242</th>\n",
              "      <td>The File on Thelma Jordon</td>\n",
              "      <td>8.0</td>\n",
              "      <td>6.3</td>\n",
              "      <td>35404</td>\n",
              "      <td>2.735111</td>\n",
              "    </tr>\n",
              "  </tbody>\n",
              "</table>\n",
              "</div>\n",
              "      <button class=\"colab-df-convert\" onclick=\"convertToInteractive('df-ec035821-e071-4815-88a3-a7b27f4d983c')\"\n",
              "              title=\"Convert this dataframe to an interactive table.\"\n",
              "              style=\"display:none;\">\n",
              "        \n",
              "  <svg xmlns=\"http://www.w3.org/2000/svg\" height=\"24px\"viewBox=\"0 0 24 24\"\n",
              "       width=\"24px\">\n",
              "    <path d=\"M0 0h24v24H0V0z\" fill=\"none\"/>\n",
              "    <path d=\"M18.56 5.44l.94 2.06.94-2.06 2.06-.94-2.06-.94-.94-2.06-.94 2.06-2.06.94zm-11 1L8.5 8.5l.94-2.06 2.06-.94-2.06-.94L8.5 2.5l-.94 2.06-2.06.94zm10 10l.94 2.06.94-2.06 2.06-.94-2.06-.94-.94-2.06-.94 2.06-2.06.94z\"/><path d=\"M17.41 7.96l-1.37-1.37c-.4-.4-.92-.59-1.43-.59-.52 0-1.04.2-1.43.59L10.3 9.45l-7.72 7.72c-.78.78-.78 2.05 0 2.83L4 21.41c.39.39.9.59 1.41.59.51 0 1.02-.2 1.41-.59l7.78-7.78 2.81-2.81c.8-.78.8-2.07 0-2.86zM5.41 20L4 18.59l7.72-7.72 1.47 1.35L5.41 20z\"/>\n",
              "  </svg>\n",
              "      </button>\n",
              "      \n",
              "  <style>\n",
              "    .colab-df-container {\n",
              "      display:flex;\n",
              "      flex-wrap:wrap;\n",
              "      gap: 12px;\n",
              "    }\n",
              "\n",
              "    .colab-df-convert {\n",
              "      background-color: #E8F0FE;\n",
              "      border: none;\n",
              "      border-radius: 50%;\n",
              "      cursor: pointer;\n",
              "      display: none;\n",
              "      fill: #1967D2;\n",
              "      height: 32px;\n",
              "      padding: 0 0 0 0;\n",
              "      width: 32px;\n",
              "    }\n",
              "\n",
              "    .colab-df-convert:hover {\n",
              "      background-color: #E2EBFA;\n",
              "      box-shadow: 0px 1px 2px rgba(60, 64, 67, 0.3), 0px 1px 3px 1px rgba(60, 64, 67, 0.15);\n",
              "      fill: #174EA6;\n",
              "    }\n",
              "\n",
              "    [theme=dark] .colab-df-convert {\n",
              "      background-color: #3B4455;\n",
              "      fill: #D2E3FC;\n",
              "    }\n",
              "\n",
              "    [theme=dark] .colab-df-convert:hover {\n",
              "      background-color: #434B5C;\n",
              "      box-shadow: 0px 1px 3px 1px rgba(0, 0, 0, 0.15);\n",
              "      filter: drop-shadow(0px 1px 2px rgba(0, 0, 0, 0.3));\n",
              "      fill: #FFFFFF;\n",
              "    }\n",
              "  </style>\n",
              "\n",
              "      <script>\n",
              "        const buttonEl =\n",
              "          document.querySelector('#df-ec035821-e071-4815-88a3-a7b27f4d983c button.colab-df-convert');\n",
              "        buttonEl.style.display =\n",
              "          google.colab.kernel.accessAllowed ? 'block' : 'none';\n",
              "\n",
              "        async function convertToInteractive(key) {\n",
              "          const element = document.querySelector('#df-ec035821-e071-4815-88a3-a7b27f4d983c');\n",
              "          const dataTable =\n",
              "            await google.colab.kernel.invokeFunction('convertToInteractive',\n",
              "                                                     [key], {});\n",
              "          if (!dataTable) return;\n",
              "\n",
              "          const docLinkHtml = 'Like what you see? Visit the ' +\n",
              "            '<a target=\"_blank\" href=https://colab.research.google.com/notebooks/data_table.ipynb>data table notebook</a>'\n",
              "            + ' to learn more about interactive tables.';\n",
              "          element.innerHTML = '';\n",
              "          dataTable['output_type'] = 'display_data';\n",
              "          await google.colab.output.renderOutput(dataTable, element);\n",
              "          const docLink = document.createElement('div');\n",
              "          docLink.innerHTML = docLinkHtml;\n",
              "          element.appendChild(docLink);\n",
              "        }\n",
              "      </script>\n",
              "    </div>\n",
              "  </div>\n",
              "  "
            ]
          },
          "metadata": {},
          "execution_count": 34
        }
      ]
    }
  ]
}